{
 "cells": [
  {
   "cell_type": "code",
   "execution_count": null,
   "metadata": {},
   "outputs": [],
   "source": [
    "import numpy as np\n",
    "import matplotlib.pyplot as plt\n",
    "from textwrap import wrap\n",
    "\n",
    "totalPlot = 'data/plots/{}Total.png'\n",
    "newPlot = 'data/plots/{}New.png'\n",
    "recentFile = 'data/recent-state-data.csv'\n",
    "nationalDataFile = 'data/us-states.csv'"
   ]
  },
  {
   "cell_type": "code",
   "execution_count": null,
   "metadata": {},
   "outputs": [],
   "source": [
    "def determineStates(nationalData):\n",
    "    states = set()\n",
    "    fips = dict()\n",
    "    for row in nationalData:\n",
    "        stateName = row[1].decode('UTF-8')\n",
    "        states.add(stateName)\n",
    "        fips[stateName] = row[2]\n",
    "\n",
    "    states = list(states)\n",
    "    states.sort()\n",
    "    return states, fips"
   ]
  },
  {
   "cell_type": "code",
   "execution_count": null,
   "metadata": {},
   "outputs": [],
   "source": [
    "def stateCondition(state, nationalData, fips):\n",
    "    fipsCode = fips[state]\n",
    "    return [row['fips'] == fipsCode for row in nationalData]\n",
    "\n",
    "def getCol(strucArray, col):\n",
    "    return np.array([row[col] for row in strucArray])"
   ]
  },
  {
   "cell_type": "code",
   "execution_count": null,
   "metadata": {},
   "outputs": [],
   "source": [
    "def plotTotal(state, nationalData, fips):\n",
    "    stateData = np.extract(stateCondition(state, nationalData, fips), nationalData)\n",
    "    dates = getCol(stateData, 'date')\n",
    "    cases = getCol(stateData, 'cases')\n",
    "    deaths = getCol(stateData, 'deaths')\n",
    "\n",
    "    plt.figure()\n",
    "    plt.plot(dates, cases)\n",
    "    plt.plot(dates, deaths)\n",
    "    locs, labels = plt.xticks()\n",
    "    newLocs = [locs[0], locs[-1]//4, locs[-1]//2, (locs[-1]*3)//4, locs[-1]]\n",
    "    plt.xticks(newLocs)\n",
    "    plt.fill_between(dates, cases, alpha=0.9)\n",
    "    plt.fill_between(dates, deaths, alpha=0.9)\n",
    "    plt.title('\\n'.join(wrap('Total COVID-19 Cases and Deaths in {}'.format(state), 54)))\n",
    "    plt.xlabel('Date')\n",
    "    plt.legend(['Total Cases ({})'.format(cases[-1]), 'Deaths ({})'.format(deaths[-1])])\n",
    "    plt.savefig(totalPlot.format(state))\n",
    "    plt.close()"
   ]
  },
  {
   "cell_type": "code",
   "execution_count": null,
   "metadata": {},
   "outputs": [],
   "source": [
    "def prevDate(date):\n",
    "    dateArray = date.split('-')\n",
    "    dateArray = [int(i) for i in dateArray]\n",
    "    dateArray[2] -= 1\n",
    "    \n",
    "    if dateArray[2] == 0:\n",
    "        dateArray[1] -= 1\n",
    "        if dateArray[1] == 0:\n",
    "            dateArray[1] = 12\n",
    "            dateArray[0] -= 1\n",
    "            \n",
    "        if dateArray[1] in (1, 3, 5, 7, 8, 10, 12):\n",
    "            dateArray[2] = 31\n",
    "        elif dateArray[1] in (4, 6, 9, 11):\n",
    "            dateArray[2] = 30\n",
    "        elif (dateArray[0] % 4) == 0:\n",
    "            dateArray[2] = 29\n",
    "        else:\n",
    "            dateArray[2] = 28\n",
    "    \n",
    "    leadingZero = [i // 10 == 0 for i in dateArray]\n",
    "    dateArray = [str(i) for i in dateArray]\n",
    "    for i in range(len(dateArray)):\n",
    "        if leadingZero[i]:\n",
    "            dateArray[i] = '0{}'.format(dateArray[i])\n",
    "    date = '{}-{}-{}'.format(dateArray[0], dateArray[1], dateArray[2])\n",
    "    return date"
   ]
  },
  {
   "cell_type": "code",
   "execution_count": null,
   "metadata": {},
   "outputs": [],
   "source": [
    "def extractRecentData(dates, cases, deaths):\n",
    "    info = [0] * 9\n",
    "    info[8] = deaths[-1]\n",
    "    info[5] = cases[-1]\n",
    "    info[2] = dates[-1].decode('UTF-8')\n",
    "    info[1] = prevDate(info[2])\n",
    "    info[0] = prevDate(info[1])\n",
    "    \n",
    "    if dates.size > 1:\n",
    "        info[7] = deaths[-2]\n",
    "        info[4] = cases[-2]\n",
    "        \n",
    "    if dates.size > 2:\n",
    "        info[6] = deaths[-3]\n",
    "        info[3] = cases[-3]\n",
    "        \n",
    "    return info"
   ]
  },
  {
   "cell_type": "code",
   "execution_count": null,
   "metadata": {},
   "outputs": [],
   "source": [
    "def plotNew(state, nationalData, fips):\n",
    "    stateData = np.extract(stateCondition(state, nationalData, fips), nationalData)\n",
    "    dates = getCol(stateData, 'date')\n",
    "    cases = getCol(stateData, 'cases')\n",
    "    deaths = getCol(stateData, 'deaths')\n",
    "    \n",
    "    totCases = np.insert(cases, 0, [0])\n",
    "    totDeaths = np.insert(deaths, 0, [0])\n",
    "    \n",
    "    for i in range(len(dates)):\n",
    "        cases[i] = totCases[i+1] - totCases[i]\n",
    "        deaths[i] = totDeaths[i+1] - totDeaths[i]\n",
    "        \n",
    "    plt.figure()\n",
    "    plt.bar(dates, cases, alpha=.9)\n",
    "    plt.bar(dates, deaths, alpha=.9)\n",
    "    locs, labels = plt.xticks()\n",
    "    newLocs = [locs[0], locs[-1]//4, locs[-1]//2, (locs[-1]*3)//4, locs[-1]]\n",
    "    plt.xticks(newLocs)\n",
    "    plt.title('\\n'.join(wrap('New COVID-19 Cases and Deaths Every Day in {}'.format(state), 54)))\n",
    "    plt.xlabel('Date')\n",
    "    plt.legend(['New Cases ({})'.format(cases[-1]), 'New Deaths ({})'.format(deaths[-1])])\n",
    "    plt.savefig(newPlot.format(state))\n",
    "    plt.close()\n",
    "    \n",
    "    info = extractRecentData(dates, cases, deaths)\n",
    "    \n",
    "    # last three days, new cases, and new deaths\n",
    "    return '{},{},{},{},{},{},{},{},{}'.format(*info)"
   ]
  },
  {
   "cell_type": "code",
   "execution_count": null,
   "metadata": {},
   "outputs": [],
   "source": [
    "def plotStates(nationalData):\n",
    "    fileStr = ''\n",
    "    states, fips = determineStates(nationalData)\n",
    "    \n",
    "    for state in states:\n",
    "        plotTotal(state, nationalData, fips)\n",
    "        fileStr += '{},{}'.format(state, plotNew(state, nationalData, fips))\n",
    "        if (state != states[-1]):\n",
    "            fileStr += '\\n'\n",
    "    \n",
    "    file = open(recentFile, 'w')\n",
    "    file.write(fileStr)\n",
    "    file.close()"
   ]
  },
  {
   "cell_type": "code",
   "execution_count": null,
   "metadata": {},
   "outputs": [],
   "source": [
    "nationalData = np.genfromtxt(nationalDataFile, dtype=[('date', \"|S10\"), ('state', \"|S24\"), ('fips', int), ('cases', int), ('deaths', int)], delimiter=',')\n",
    "nationalData = nationalData[1:]\n",
    "\n",
    "plotStates(nationalData)"
   ]
  },
  {
   "cell_type": "code",
   "execution_count": null,
   "metadata": {},
   "outputs": [],
   "source": []
  }
 ],
 "metadata": {
  "kernelspec": {
   "display_name": "Python 3",
   "language": "python",
   "name": "python3"
  },
  "language_info": {
   "codemirror_mode": {
    "name": "ipython",
    "version": 3
   },
   "file_extension": ".py",
   "mimetype": "text/x-python",
   "name": "python",
   "nbconvert_exporter": "python",
   "pygments_lexer": "ipython3",
   "version": "3.7.1"
  }
 },
 "nbformat": 4,
 "nbformat_minor": 2
}
